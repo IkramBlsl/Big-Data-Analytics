{
 "cells": [
  {
   "cell_type": "markdown",
   "id": "2480a20f",
   "metadata": {},
   "source": [
    "# Importation des librairies"
   ]
  },
  {
   "cell_type": "code",
   "execution_count": 1,
   "id": "81fa425b",
   "metadata": {},
   "outputs": [
    {
     "name": "stderr",
     "output_type": "stream",
     "text": [
      "[nltk_data] Downloading package punkt to\n",
      "[nltk_data]     C:\\Users\\etudiant\\AppData\\Roaming\\nltk_data...\n",
      "[nltk_data]   Package punkt is already up-to-date!\n",
      "[nltk_data] Downloading package stopwords to\n",
      "[nltk_data]     C:\\Users\\etudiant\\AppData\\Roaming\\nltk_data...\n",
      "[nltk_data]   Package stopwords is already up-to-date!\n"
     ]
    }
   ],
   "source": [
    "import json\n",
    "import pandas as pd\n",
    "import numpy as np\n",
    "import re\n",
    "import string\n",
    "import emoji\n",
    "import matplotlib.pyplot as plt\n",
    "import nltk\n",
    "from nltk.corpus import stopwords\n",
    "from nltk.tokenize import word_tokenize\n",
    "from nltk.stem import WordNetLemmatizer\n",
    "from nltk.stem.snowball import FrenchStemmer\n",
    "# Télécharger les ressources nécessaires pour NLTK\n",
    "nltk.download('punkt')\n",
    "nltk.download('stopwords')\n",
    "# Préparation des outils\n",
    "stop_words = set(stopwords.words('french'))\n",
    "stemmer = FrenchStemmer()\n"
   ]
  },
  {
   "cell_type": "code",
   "execution_count": 2,
   "id": "891c7d79",
   "metadata": {},
   "outputs": [],
   "source": [
    "import warnings\n",
    "warnings.filterwarnings('ignore')"
   ]
  },
  {
   "cell_type": "markdown",
   "id": "fb09ad25",
   "metadata": {},
   "source": [
    "# Load the data"
   ]
  },
  {
   "cell_type": "code",
   "execution_count": 3,
   "id": "07f18c8e",
   "metadata": {},
   "outputs": [
    {
     "data": {
      "text/html": [
       "<div>\n",
       "<style scoped>\n",
       "    .dataframe tbody tr th:only-of-type {\n",
       "        vertical-align: middle;\n",
       "    }\n",
       "\n",
       "    .dataframe tbody tr th {\n",
       "        vertical-align: top;\n",
       "    }\n",
       "\n",
       "    .dataframe thead th {\n",
       "        text-align: right;\n",
       "    }\n",
       "</style>\n",
       "<table border=\"1\" class=\"dataframe\">\n",
       "  <thead>\n",
       "    <tr style=\"text-align: right;\">\n",
       "      <th></th>\n",
       "      <th>name</th>\n",
       "      <th>appreciation</th>\n",
       "      <th>comments</th>\n",
       "    </tr>\n",
       "  </thead>\n",
       "  <tbody>\n",
       "    <tr>\n",
       "      <th>0</th>\n",
       "      <td>Dahl de lentilles corail</td>\n",
       "      <td>4.5/5</td>\n",
       "      <td>[Recette de base que j'adapte en fonction des ...</td>\n",
       "    </tr>\n",
       "    <tr>\n",
       "      <th>1</th>\n",
       "      <td>Poêlée de panais</td>\n",
       "      <td>4.4/5</td>\n",
       "      <td>[Délicieux. C'est la première fois que je cuis...</td>\n",
       "    </tr>\n",
       "    <tr>\n",
       "      <th>2</th>\n",
       "      <td>Aubergines au four</td>\n",
       "      <td>4.3/5</td>\n",
       "      <td>[Facile à préparer et très sain. Il faut mettr...</td>\n",
       "    </tr>\n",
       "    <tr>\n",
       "      <th>3</th>\n",
       "      <td>Curry de pois chiches</td>\n",
       "      <td>4.8/5</td>\n",
       "      <td>[après 10' j'ajoute des épinards., Rien à ajou...</td>\n",
       "    </tr>\n",
       "    <tr>\n",
       "      <th>4</th>\n",
       "      <td>Galettes de pomme de terre</td>\n",
       "      <td>3.9/5</td>\n",
       "      <td>[Très bien. Je n'ai mis qu'un oignon que j'ai ...</td>\n",
       "    </tr>\n",
       "  </tbody>\n",
       "</table>\n",
       "</div>"
      ],
      "text/plain": [
       "                         name appreciation  \\\n",
       "0    Dahl de lentilles corail        4.5/5   \n",
       "1            Poêlée de panais        4.4/5   \n",
       "2          Aubergines au four        4.3/5   \n",
       "3       Curry de pois chiches        4.8/5   \n",
       "4  Galettes de pomme de terre        3.9/5   \n",
       "\n",
       "                                            comments  \n",
       "0  [Recette de base que j'adapte en fonction des ...  \n",
       "1  [Délicieux. C'est la première fois que je cuis...  \n",
       "2  [Facile à préparer et très sain. Il faut mettr...  \n",
       "3  [après 10' j'ajoute des épinards., Rien à ajou...  \n",
       "4  [Très bien. Je n'ai mis qu'un oignon que j'ai ...  "
      ]
     },
     "execution_count": 3,
     "metadata": {},
     "output_type": "execute_result"
    }
   ],
   "source": [
    "data = pd.read_json('comments_f1.json')\n",
    "if '_id' in data.columns:\n",
    "    data.drop('_id', axis=1, inplace=True)\n",
    "data.head()"
   ]
  },
  {
   "cell_type": "markdown",
   "id": "6cb586a3",
   "metadata": {},
   "source": [
    "# Visualization "
   ]
  },
  {
   "cell_type": "code",
   "execution_count": 4,
   "id": "cddb5195",
   "metadata": {},
   "outputs": [],
   "source": [
    "# Convertir la colonne \"appreciation\" en chaîne de caractères\n",
    "data['appreciation'] = data['appreciation'].astype(str)\n",
    "\n",
    "# Extraire la partie numérique de la colonne 'appreciation' et la convertir en nombre à virgule flottante\n",
    "data['appreciation'] = data['appreciation'].str.extract('(\\d+\\.\\d+)').astype(float)\n",
    "\n",
    "# Compter le nombre de chaque note\n",
    "note_counts = data['appreciation'].value_counts()\n",
    "\n",
    "# Calculer le pourcentage de chaque note\n",
    "note_percentages = (note_counts / note_counts.sum()) * 100"
   ]
  },
  {
   "cell_type": "code",
   "execution_count": 5,
   "id": "25de129a",
   "metadata": {},
   "outputs": [],
   "source": [
    "# Compter le nombre de chaque note\n",
    "note_counts = data['appreciation'].value_counts()\n",
    "\n",
    "# Calculer le pourcentage de chaque note\n",
    "note_percentages = (note_counts / note_counts.sum()) * 100"
   ]
  },
  {
   "cell_type": "code",
   "execution_count": 6,
   "id": "a735698a",
   "metadata": {},
   "outputs": [
    {
     "data": {
      "image/png": "[encoded data removed]",
      "text/plain": [
       "<Figure size 800x600 with 1 Axes>"
      ]
     },
     "metadata": {},
     "output_type": "display_data"
    }
   ],
   "source": [
    "# Visualisation\n",
    "plt.figure(figsize=(8, 6))\n",
    "note_percentages.plot(kind='bar', color='skyblue')\n",
    "plt.title('Pourcentage de recettes par note')\n",
    "plt.xlabel('Note')\n",
    "plt.ylabel('Pourcentage des recettes (%)')\n",
    "plt.xticks(rotation=45)\n",
    "plt.tight_layout()\n",
    "plt.show()"
   ]
  },
  {
   "cell_type": "code",
   "execution_count": 7,
   "id": "545c71ca",
   "metadata": {},
   "outputs": [
    {
     "data": {
      "image/png": "[encoded data removed]",
      "text/plain": [
       "<Figure size 800x600 with 1 Axes>"
      ]
     },
     "metadata": {},
     "output_type": "display_data"
    }
   ],
   "source": [
    "plt.figure(figsize=(8, 6))\n",
    "plt.hist(data['appreciation'], bins=10, color='skyblue', edgecolor='black')\n",
    "plt.title('Répartition des notes')\n",
    "plt.xlabel('Note')\n",
    "plt.ylabel('Nombre de recettes')\n",
    "plt.show()"
   ]
  },
  {
   "cell_type": "code",
   "execution_count": 8,
   "id": "509f1fc0",
   "metadata": {},
   "outputs": [
    {
     "data": {
      "image/png": "[encoded data removed]",
      "text/plain": [
       "<Figure size 800x600 with 1 Axes>"
      ]
     },
     "metadata": {},
     "output_type": "display_data"
    }
   ],
   "source": [
    "plt.figure(figsize=(8, 6))\n",
    "plt.boxplot(data['appreciation'])\n",
    "plt.title('Distribution des notes')\n",
    "plt.ylabel('Note')\n",
    "plt.show()"
   ]
  },
  {
   "cell_type": "markdown",
   "id": "af3bb713",
   "metadata": {},
   "source": [
    "### statistiques descriptives"
   ]
  },
  {
   "cell_type": "code",
   "execution_count": 9,
   "id": "af3e45a2",
   "metadata": {},
   "outputs": [
    {
     "name": "stdout",
     "output_type": "stream",
     "text": [
      "count    339.000000\n",
      "mean       4.501180\n",
      "std        0.365605\n",
      "min        2.800000\n",
      "25%        4.400000\n",
      "50%        4.600000\n",
      "75%        4.700000\n",
      "max        4.900000\n",
      "Name: appreciation, dtype: float64\n"
     ]
    }
   ],
   "source": [
    "print(data['appreciation'].describe())"
   ]
  },
  {
   "cell_type": "code",
   "execution_count": 10,
   "id": "ed16d8d0",
   "metadata": {},
   "outputs": [
    {
     "name": "stdout",
     "output_type": "stream",
     "text": [
      "                                                  name  appreciation  \\\n",
      "0                             Dahl de lentilles corail           4.5   \n",
      "2                                   Aubergines au four           4.3   \n",
      "3                                Curry de pois chiches           4.8   \n",
      "4                           Galettes de pomme de terre           3.9   \n",
      "5                      Lasagnes végétariennes (facile)           4.8   \n",
      "..                                                 ...           ...   \n",
      "330               Omelette aux girolles, ail et persil           4.6   \n",
      "333  Omelette à l'ancienne (oignon-lardon-pomme de ...           4.9   \n",
      "336                        Tortilla de pommes de terre           4.7   \n",
      "348                      Omelette espagnole au chorizo           4.5   \n",
      "354                                    Pâte à tortilla           3.1   \n",
      "\n",
      "                                              comments  \n",
      "0    [Recette de base que j'adapte en fonction des ...  \n",
      "2    [Facile à préparer et très sain. Il faut mettr...  \n",
      "3    [après 10' j'ajoute des épinards., Rien à ajou...  \n",
      "4    [Très bien. Je n'ai mis qu'un oignon que j'ai ...  \n",
      "5    [Merci succulent, Recette adoptée, même meille...  \n",
      "..                                                 ...  \n",
      "330  [Good, Excellent même sans plier en deux., Il ...  \n",
      "333  [Très bon , rien à dire si ce n'est que on peu...  \n",
      "336  [Très bon et recette facile, Super bonne !, Id...  \n",
      "348  [Facile et très bon, Pas mal du tout 👍🏻😋👨🏻‍🍳, ...  \n",
      "354  [Recette inmangeable malgré de multiples essai...  \n",
      "\n",
      "[127 rows x 3 columns]\n"
     ]
    }
   ],
   "source": [
    "# Créer une fonction pour vérifier si une chaîne contient des emojis\n",
    "def contains_emojis(text):\n",
    "    # Expression régulière pour correspondre à des séquences d'emojis\n",
    "    emoji_pattern = re.compile(\"[\\U0001F300-\\U0001F5FF]|[\\U0001F600-\\U0001F64F]|[\\U0001F680-\\U0001F6FF]|[\\U0001F700-\\U0001F77F]|[\\U0001F780-\\U0001F7FF]|[\\U0001F800-\\U0001F8FF]|[\\U0001F900-\\U0001F9FF]|[\\U0001FA00-\\U0001FA6F]|[\\U0001FA70-\\U0001FAFF]|[\\U00002702-\\U000027B0]|[\\U000024C2-\\U0001F251]|[\\U0001f926-\\U0001f937]|[\\U0001F1E0-\\U0001F1FF]+\")\n",
    "\n",
    "    # Retourne True si la chaîne contient des emojis, sinon False\n",
    "    return bool(re.search(emoji_pattern, text))\n",
    "# Filtrer les commentaires qui contiennent des emojis\n",
    "emoji_comments = data[data['comments'].apply(lambda x: any(contains_emojis(comment) for comment in x))]\n",
    "\n",
    "# Afficher les commentaires qui contiennent des emojis\n",
    "print(emoji_comments)"
   ]
  },
  {
   "cell_type": "markdown",
   "id": "a5a88cca",
   "metadata": {},
   "source": [
    "### observations des commentaires avec les emojis"
   ]
  },
  {
   "cell_type": "code",
   "execution_count": 11,
   "id": "eef99d7e",
   "metadata": {},
   "outputs": [
    {
     "name": "stdout",
     "output_type": "stream",
     "text": [
      "[\"Recette de base que j'adapte en fonction des légumes de ma maison. C'est très sympa avec de la patate douce 😀🌞⛵🌊\", 'N’oubliez pas de faire cuire en avance les carottes !! Sinon recette très bonne avec beaucoup de saveur', \"D'accord pour le commentaire sur les carottes . Je n'ai pas trouvé ça ressemblant au Dahl Corail que j'avais l'habitude de manger dans les restaurants indiens. Décevant !\", \"Très bonne recette réalisée avec des lentilles vertes et davantage de lait de coco. J'ai ajouté des pommes de terre déjà cuites : un régal !\", 'Facile à faire, plat délicieux et sain ??', 'Bien, je le fais régulièrement.', 'Tres bon plat. Facile à faire.', \"C'est très bon et cela va bien avec tous les légumes de son choix, frais ou en conserve  j'ai mis 1 poivron vert, 1 rouge et des carottes violettes. Je n'avais pas de lait de coco donc j'ai mis de la crème de soja.\", 'Facile à faire et excellent', 'Délicieux et consistant ! Les lentilles apportent les protéines et le fer.', 'Très bon merci.', 'Excellent et rapide à faire.', 'Délicieux, une autre manière d’accommoder les lentilles.', \"La prochaine fois, je cuirai les carottes à la vapeur avant, et je laisserai plus réduire l'accompagnement au lait de coco. Mais sinon, très très bon, toute la famille a apprécié !!\", \"Plutôt sympa! mais effectivement il faut couper les carottes très fines car là elles étaient encore ferme et pourtant j'avais allongé le temps de cuisson.\", 'Excellente recette ... j’ai râpé les carottes', 'Très bonne recette, je referai ! Rapide, très bon et original. Toute la famille a adoré !', 'Excellent !', \"Très bonne recette qui a été appréciée par tout la famille ! Elle supporterait bien d'être un peu plus relevée mais telle quelle c'est parfait pour les enfants ! A refaire !\", 'Très bon, les enfants adorent. Il faut juste faire cuire les lentilles un peu plus de 10min, sinon trop croquantes.', 'Excellent', \"Recette simple et bonne, j'ai ajouté de la coriandre, du piment et un peu de sel, n'ayant pas assez de carottes j'ai du tricher avec une petite patate douce.\", 'N’oubliez pas de faire cuire en avance les carottes !! Sinon recette très bonne avec beaucoup de saveur', \"Je fais cette recette régulièrement depuis que je l'ai trouvé, j'adore ! Le temps de cuisson des carottes est plus long de mon côté sinon elles restent trop dures.\", 'Tellement bon ! Pas si compliqué à faire, et ça change de d\\'habitude. La recette mériterait peut-être plus d\\'épices, et comme dit précédemment, les carottes restent plutôt dures même si coupées en petits morceaux. Cela n\\'est pas forcément désagréable pour certains qui préfèrent une touche de \"croustillant\".', 'Suculent!!!', \"Recette de base que j'adapte en fonction des légumes de ma maison. C'est très sympa avec de la patate douce 😀🌞⛵🌊\", 'Délicieux ! Je mets du massalé à la place du cumin. Toute la famille adore !', 'Débutant en cuisine : recette très facile à réaliser et très bonne. Merci', \"Pour ma part j'ai fait cuire les lentilles dans un bouillon de légumes 8 mns, fais revenir dans de l'huile d'olive 2 oignons en lamelles et 4 à 5 gousses d'ail coupées en 2.\\nCuisson vapeur des rondelles de carottes 8 mns .\\nDans la poêle des oignons j'ai versé une petite boîte de tomates concassées \\nRajout des lentilles et assaisonnement herbes de Provence et sel si besoin\", \"Rapide, simple et très bon ! J'ai ajouté du piment d'espelette et du curry\", \"Très bonne recette, j'ai ajouté beaucoup plus de cumin et de piment afin d'avoir le goût du dahl sri lankais. Je l'ai aussi laissé mijoter un peu plus pour qu'il s'épaississe. Merci !\", 'Recette simple et tres bonne', 'Aimé de tous grands et petits', 'Merci.', 'Parfait et très simple . Fait avec 2 boites de pulpe de tomate au lieu des tomates. \\nCuisson plus longue pour les carottes', 'Tres bon avec de la coriandre en plus !', 'Très bonne recette. Faite et refaite à maintes reprises !  Je remplace les tomates par des tomates pelées en conserve et au lieu des rondelles de carottes, je les \"tagliatelle\" à l\\'econome afin qu\\'elles cuisent plus facilement. J\\'ajoute un mélange d\\'épices indiennes que l\\'on trouve dans les boutiques orientales, le tout est un régal. Merci pour cette recette', \"Superbe recette ! Délicieux ce dahl ! Mon copain qui n'est pourtant pas végétarien en raffole !\", 'Excellent !', \"Très bon et simple à faire. J'ai mis le curcuma, et le cumin et j'ai ajouté une cuillère de pâte de curry pour accentuer le goût et c'est délicieux comme ça. Les carottes je les ai coupées en petit morceaux pour avoir une cuisson homogène et plus rapide !\", \"Superbe recette ! J'ai ajouté des épinards pour le coté diététique, ça se marie parfaitement bien.\", 'Les carottes ne cuisent pas ! Il faut les faire cuire avant de les mélanger au lait de coco et aux épices !!', \"Merci pour cette recette. Le lait de coco est sensible à la température (perd son goût) si vous voulez lui conserver toute sa saveur ajoutez-le hors du feu juste avant de servir. J'ai également donné un peu de fraîcheur en ajoutant de la coriandre fraîche dans les écuelles et bien sûr le piment est indispensable pour un dahl authentique (mettre du piment d'Espelette pour un plat moins piquant).\", \"Pas assez d'épices, pas assez liquide, les lentilles ne sont pas assez cuites ... Déçue.\", \"c'est pas en si peu de temps que les carottes peuvent être cuites !!! Vous avez intérêt à les faire cuire avant à l'eau sinon... ça croque !\", \"Ma version :\\nPas d'ail que personne ne digère chez moi. Je fais revenir doucement les oignons, j'ajoute les carottes râpées et les épices, poivre, sel (à peine car bouillon de poule dans l'eau de cuisson finale) je laisse cuire doucement 10mn couvert, j'ajoute une boite de tomates concassées (en hiver...), puis les lentilles, je couvre de bouillon, je fais cuire ainsi pendant 15/20mn . Pas de lait de coco alors un peu de crème fraîche (10/20cl) allégée à la fin.\"]\n"
     ]
    }
   ],
   "source": [
    "# Imprimer le commentaire de la première ligne de données\n",
    "print(data.iloc[0]['comments'])"
   ]
  },
  {
   "cell_type": "markdown",
   "id": "aadee19b",
   "metadata": {},
   "source": [
    "# Data preprocessing"
   ]
  },
  {
   "cell_type": "markdown",
   "id": "7ada7988",
   "metadata": {},
   "source": [
    "## 1- Data Cleaning "
   ]
  },
  {
   "cell_type": "markdown",
   "id": "396b4098",
   "metadata": {},
   "source": [
    "### Detecter les éléments à nettoyer "
   ]
  },
  {
   "cell_type": "code",
   "execution_count": 12,
   "id": "5582ae15",
   "metadata": {},
   "outputs": [
    {
     "name": "stdout",
     "output_type": "stream",
     "text": [
      "Présence dans les commentaires :\n",
      "Urls: 4 occurrences\n",
      "Mentions: 0 occurrences\n",
      "Uppercase words: 2063 occurrences\n",
      "Short words: 21678 occurrences\n",
      "Emojis: 320 occurrences\n",
      "Special characters: 22202 occurrences\n",
      "Doublons présents : Oui\n"
     ]
    }
   ],
   "source": [
    "def has_url(comment):\n",
    "    return bool(re.search(r'http[s]?://\\S+', comment))\n",
    "\n",
    "def has_mention(comment):\n",
    "    return bool(re.search(r'@\\w+', comment))\n",
    "\n",
    "def has_uppercase_words(comment):\n",
    "    return any(word.isupper() for word in comment.split())\n",
    "\n",
    "def has_short_words(comment, threshold=3):\n",
    "    return any(len(word) < threshold for word in comment.split())\n",
    "\n",
    "def has_emojis(comment):\n",
    "    emoji_pattern = re.compile(\"[\"\n",
    "                               u\"\\U0001F600-\\U0001F64F\"  # emoticons\n",
    "                               u\"\\U0001F300-\\U0001F5FF\"  # symbols & pictographs\n",
    "                               u\"\\U0001F680-\\U0001F6FF\"  # transport & map symbols\n",
    "                               u\"\\U0001F700-\\U0001F77F\"  # alchemical symbols\n",
    "                               u\"\\U0001F780-\\U0001F7FF\"  # Geometric Shapes Extended\n",
    "                               u\"\\U0001F800-\\U0001F8FF\"  # Supplemental Arrows-C\n",
    "                               u\"\\U0001F900-\\U0001F9FF\"  # Supplemental Symbols and Pictographs\n",
    "                               u\"\\U0001FA00-\\U0001FA6F\"  # Chess Symbols\n",
    "                               u\"\\U0001FA70-\\U0001FAFF\"  # Symbols and Pictographs Extended-A\n",
    "                               u\"\\U00002702-\\U000027B0\"  # Dingbats\n",
    "                               \"]+\", flags=re.UNICODE)\n",
    "    return bool(emoji_pattern.search(comment))\n",
    "\n",
    "def has_special_characters(comment):\n",
    "    return bool(re.search(r'[^\\w\\s]', comment))\n",
    "\n",
    "def has_duplicates(comments):\n",
    "    seen = set()\n",
    "    for comment in comments:\n",
    "        if comment in seen:\n",
    "            return True  # Doublon trouvé\n",
    "        seen.add(comment)\n",
    "    return False  # Aucun doublon\n",
    "\n",
    "# Charger les données JSON\n",
    "comments = data['comments'].explode().tolist()\n",
    "\n",
    "# Statistiques de présence\n",
    "stats = {\n",
    "    \"urls\": 0,\n",
    "    \"mentions\": 0,\n",
    "    \"uppercase_words\": 0,\n",
    "    \"short_words\": 0,\n",
    "    \"emojis\": 0,\n",
    "    \"special_characters\": 0,\n",
    "    \"duplicates\": \"Non\"  # Initialise avec \"Non\"\n",
    "}\n",
    "\n",
    "# Vérification de la présence des éléments dans chaque commentaire\n",
    "for comment in comments:\n",
    "    if has_url(comment):\n",
    "        stats['urls'] += 1\n",
    "    if has_mention(comment):\n",
    "        stats['mentions'] += 1\n",
    "    if has_uppercase_words(comment):\n",
    "        stats['uppercase_words'] += 1\n",
    "    if has_short_words(comment):\n",
    "        stats['short_words'] += 1\n",
    "    if has_emojis(comment):\n",
    "        stats['emojis'] += 1\n",
    "    if has_special_characters(comment):\n",
    "        stats['special_characters'] += 1\n",
    "\n",
    "# Vérification des doublons\n",
    "stats['duplicates'] = \"Oui\" if has_duplicates(comments) else \"Non\"\n",
    "\n",
    "# Affichage des résultats\n",
    "print(\"Présence dans les commentaires :\")\n",
    "for key, value in stats.items():\n",
    "    if key == \"duplicates\":\n",
    "        print(f\"Doublons présents : {value}\")\n",
    "    else:\n",
    "        print(f\"{key.capitalize().replace('_', ' ')}: {value} occurrences\")"
   ]
  },
  {
   "cell_type": "markdown",
   "id": "d505a1ad",
   "metadata": {},
   "source": [
    "### Supprimer les problèmes detectés "
   ]
  },
  {
   "cell_type": "code",
   "execution_count": 13,
   "id": "a8409137",
   "metadata": {},
   "outputs": [
    {
     "name": "stdout",
     "output_type": "stream",
     "text": [
      "                                    cleaned_comments\n",
      "0  Recette de base que j'adapte en fonction des l...\n",
      "1  Noubliez pas de faire cuire en avance les caro...\n",
      "2  D'accord pour le commentaire sur les carottes ...\n",
      "3  Très bonne recette réalisée avec des lentilles...\n",
      "4              Facile à faire plat délicieux et sain\n"
     ]
    }
   ],
   "source": [
    "def remove_urls(comment):\n",
    "    \"\"\"Supprime les URLs d'un commentaire.\"\"\"\n",
    "    return re.sub(r'http[s]?://\\S+', '', comment)\n",
    "\n",
    "def remove_emojis(comment):\n",
    "    \"\"\"Supprime tous les emojis d'un commentaire.\"\"\"\n",
    "    return emoji.replace_emoji(comment, replace='')\n",
    "\n",
    "def clean_punctuation(sentence):\n",
    "    \"\"\" Remplace certaines formes de ponctuation par des espaces et supprime d'autres, tout en préservant les apostrophes dans les contractions. \"\"\"\n",
    "    # Suppression de la ponctuation sauf les apostrophes utilisées dans les contractions\n",
    "    sentence = re.sub(r'(?<!\\w)[\\'\\\"](?!\\w)', '', sentence)  # Supprime les apostrophes et guillemets qui ne sont pas entourés par des lettres\n",
    "    sentence = re.sub(r'[?|!|:|;|.|,|)|(|\\|/]', ' ', sentence)  # Remplace d'autres ponctuations par des espaces\n",
    "    sentence = sentence.replace(\"\\n\", \" \")\n",
    "    return sentence.strip()\n",
    "\n",
    "def keep_alpha(sentence):\n",
    "    \"\"\"Conserve uniquement les caractères alphabétiques et gère certains caractères spéciaux.\"\"\"\n",
    "    alpha_sent = \"\"\n",
    "    for word in sentence.split():\n",
    "        alpha_word = re.sub('[^a-z A-ZÀ-ÿ\\']+', '', word)  # Inclure les caractères accentués français et apostrophes\n",
    "        alpha_word = alpha_word.replace('œ', 'oe')  # Remplacer 'œ' par 'oe'\n",
    "        alpha_sent += alpha_word + \" \"\n",
    "    return alpha_sent.strip()\n",
    "\n",
    "def remove_repeated_characters(comment):\n",
    "    \"\"\"Réduit les caractères répétés dans les mots pour éviter des variations comme 'délicieeuuuuux' à 'délicieux'.\"\"\"\n",
    "    return re.sub(r'(\\w)(\\1{2,})', r'\\1', comment)\n",
    "\n",
    "# Chargement et préparation des données\n",
    "comments = data['comments'].explode().drop_duplicates().tolist()\n",
    "\n",
    "# Application du nettoyage\n",
    "cleaned_comments = []\n",
    "for comment in comments:\n",
    "    comment = remove_urls(comment)\n",
    "    comment = remove_emojis(comment)\n",
    "    comment = clean_punctuation(comment)\n",
    "    comment = keep_alpha(comment)\n",
    "    comment = remove_repeated_characters(comment)\n",
    "    cleaned_comments.append(comment)\n",
    "    \n",
    "# Création d'un DataFrame à partir des commentaires nettoyés\n",
    "cleaned_data = pd.DataFrame(cleaned_comments, columns=['cleaned_comments'])\n",
    "\n",
    "# Afficher les premiers éléments nettoyés pour vérifier\n",
    "print(cleaned_data.head())"
   ]
  },
  {
   "cell_type": "code",
   "execution_count": 14,
   "id": "2be46874",
   "metadata": {},
   "outputs": [],
   "source": [
    "def tokenize_sentences(text):\n",
    "    \"\"\"Tokenise le texte en mots.\"\"\"\n",
    "    return word_tokenize(text, language='french')\n",
    "\n",
    "def remove_stop_words(tokens):\n",
    "    \"\"\"Enlève les stop words de la liste de tokens.\"\"\"\n",
    "    return [word for word in tokens if word not in stop_words]\n",
    "\n",
    "def stem_words(words):\n",
    "    \"\"\"Applique le stemming sur la liste de mots.\"\"\"\n",
    "    return [stemmer.stem(word) for word in words]\n",
    "\n",
    "def preprocess_text(text):\n",
    "    \"\"\"Applique le tokenization, la suppression des stop words, et le stemming.\"\"\"\n",
    "    tokens = tokenize_sentences(text)\n",
    "    filtered_tokens = remove_stop_words(tokens)\n",
    "    stemmed_tokens = stem_words(filtered_tokens)\n",
    "    return stemmed_tokens\n"
   ]
  },
  {
   "cell_type": "markdown",
   "id": "ccd98e12",
   "metadata": {},
   "source": [
    "### Application du code de pretraitement "
   ]
  },
  {
   "cell_type": "code",
   "execution_count": 15,
   "id": "408e731e",
   "metadata": {},
   "outputs": [
    {
     "name": "stdout",
     "output_type": "stream",
     "text": [
      "                               preprocessed_comments\n",
      "0  recet bas j'adapt fonction légum maison c'est ...\n",
      "1  noubl fair cuir avanc carott sinon recet tres ...\n",
      "2  d'accord commentair carott je n'ai trouv ça re...\n",
      "3  tres bon recet réalis lentill vert davantag la...\n",
      "4                        facil fair plat délici sain\n"
     ]
    }
   ],
   "source": [
    "# Chargement des données nettoyées\n",
    "cleaned_comments = cleaned_data['cleaned_comments'].explode().drop_duplicates().tolist()\n",
    "\n",
    "# Application du prétraitement\n",
    "preprocessed_comments = []\n",
    "for comment in cleaned_comments:\n",
    "    processed_text = preprocess_text(comment)\n",
    "    # Joindre les tokens pour former une chaîne de caractères avant de les ajouter à la liste\n",
    "    preprocessed_comments.append(' '.join(processed_text))\n",
    "\n",
    "# Création d'un DataFrame à partir des commentaires prétraités\n",
    "preprocessed_data = pd.DataFrame(preprocessed_comments, columns=['preprocessed_comments'])\n",
    "\n",
    "# Affichage des premiers éléments prétraités pour vérifier\n",
    "print(preprocessed_data.head())\n"
   ]
  },
  {
   "cell_type": "code",
   "execution_count": 21,
   "id": "97ded23d",
   "metadata": {},
   "outputs": [
    {
     "name": "stdout",
     "output_type": "stream",
     "text": [
      "     appreciation\n",
      "0             4.5\n",
      "1             4.4\n",
      "2             4.3\n",
      "3             4.8\n",
      "4             3.9\n",
      "..            ...\n",
      "360           4.5\n",
      "361           4.8\n",
      "362           4.4\n",
      "363           4.5\n",
      "364           4.7\n",
      "\n",
      "[365 rows x 1 columns]\n"
     ]
    }
   ],
   "source": [
    "# Convertir toutes les valeurs en chaînes de caractères\n",
    "data['appreciation'] = data['appreciation'].astype(str)\n",
    "\n",
    "# Utiliser .str.replace() pour supprimer '/5' et convertir en float\n",
    "data['appreciation'] = data['appreciation'].str.replace('/5', '').astype(float)\n",
    "\n",
    "# Afficher les données après la conversion\n",
    "print(data[['appreciation']])\n"
   ]
  },
  {
   "cell_type": "code",
   "execution_count": 18,
   "id": "c742c606",
   "metadata": {},
   "outputs": [
    {
     "name": "stdout",
     "output_type": "stream",
     "text": [
      "                                         name  appreciation  \\\n",
      "0                    Dahl de lentilles corail           4.5   \n",
      "1                            Poêlée de panais           4.4   \n",
      "2                          Aubergines au four           4.3   \n",
      "3                       Curry de pois chiches           4.8   \n",
      "4                  Galettes de pomme de terre           3.9   \n",
      "..                                        ...           ...   \n",
      "360     Omelette aux lardons, champignons....           4.5   \n",
      "361           Omelette des jours sans courses           4.8   \n",
      "362      Oeufs brouillés aux oeufs... de lump           4.4   \n",
      "363  Oeufs brouillés à la tomate simplissimes           4.5   \n",
      "364                        Omelette savoyarde           4.7   \n",
      "\n",
      "                                              comments  \n",
      "0    [Recette de base que j'adapte en fonction des ...  \n",
      "1    [Délicieux. C'est la première fois que je cuis...  \n",
      "2    [Facile à préparer et très sain. Il faut mettr...  \n",
      "3    [après 10' j'ajoute des épinards., Rien à ajou...  \n",
      "4    [Très bien. Je n'ai mis qu'un oignon que j'ai ...  \n",
      "..                                                 ...  \n",
      "360  [Miam !, Ressemble plus à une tortilla espagno...  \n",
      "361  [Une très bonne recette ! Adaptée avec le cont...  \n",
      "362  [Recette parfaite!, Très bon ! Rien à changer....  \n",
      "363  [Avec des champignons frais en plus... un déli...  \n",
      "364  [Moi je l'ai faite avec des röstis, des lardon...  \n",
      "\n",
      "[365 rows x 3 columns]\n"
     ]
    }
   ],
   "source": [
    "print(data)"
   ]
  },
  {
   "cell_type": "markdown",
   "id": "b742f2b4",
   "metadata": {},
   "source": [
    "## Transformation du texte en numerique "
   ]
  },
  {
   "cell_type": "code",
   "execution_count": null,
   "id": "ab0dd07a",
   "metadata": {},
   "outputs": [],
   "source": []
  }
 ],
 "metadata": {
  "kernelspec": {
   "display_name": "Python 3 (ipykernel)",
   "language": "python",
   "name": "python3"
  },
  "language_info": {
   "codemirror_mode": {
    "name": "ipython",
    "version": 3
   },
   "file_extension": ".py",
   "mimetype": "text/x-python",
   "name": "python",
   "nbconvert_exporter": "python",
   "pygments_lexer": "ipython3",
   "version": "3.9.13"
  }
 },
 "nbformat": 4,
 "nbformat_minor": 5
}
